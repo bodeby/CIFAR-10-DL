{
  "nbformat": 4,
  "nbformat_minor": 0,
  "metadata": {
    "colab": {
      "provenance": [],
      "gpuType": "T4",
      "machine_shape": "hm",
      "mount_file_id": "https://github.com/bodeby/CIFAR-10-DL/blob/main/main.ipynb",
      "authorship_tag": "ABX9TyPT8XaXHrfYShBwj0ZKlZp1"
    },
    "kernelspec": {
      "name": "python3",
      "display_name": "Python 3"
    },
    "language_info": {
      "name": "python"
    },
    "accelerator": "GPU"
  },
  "cells": [
    {
      "cell_type": "code",
      "execution_count": 1,
      "metadata": {
        "id": "Azec7kBxsaAC"
      },
      "outputs": [],
      "source": [
        "import os\n",
        "import time\n",
        "import torch\n",
        "from torch import nn, optim\n",
        "from torch.utils.data import DataLoader\n",
        "from torchvision import datasets, transforms"
      ]
    },
    {
      "cell_type": "code",
      "source": [
        "device = (\"cuda\" if torch.cuda.is_available() else \"mps\" if torch.backends.mps.is_available() else \"cpu\")"
      ],
      "metadata": {
        "id": "tZQeifW0tJsi"
      },
      "execution_count": 2,
      "outputs": []
    },
    {
      "cell_type": "markdown",
      "source": [
        "### Data Preperation"
      ],
      "metadata": {
        "id": "O7itQPwsu2hn"
      }
    },
    {
      "cell_type": "code",
      "source": [
        "# Define transformations for training and testing data\n",
        "transform = transforms.Compose([\n",
        "    transforms.RandomHorizontalFlip(),\n",
        "    transforms.RandomCrop(32, padding=4),\n",
        "    transforms.ToTensor(),\n",
        "    transforms.Normalize((0.4914, 0.4822, 0.4465), (0.2023, 0.1994, 0.2010)),\n",
        "])"
      ],
      "metadata": {
        "id": "vxHkb898u5QL"
      },
      "execution_count": 4,
      "outputs": []
    },
    {
      "cell_type": "code",
      "source": [
        "# Load the CIFAR-10 dataset\n",
        "batch_size = 64\n",
        "trainset = datasets.CIFAR10(root='./data', train=True, download=True, transform=transform)\n",
        "trainloader = torch.utils.data.DataLoader(trainset, batch_size=batch_size, shuffle=True, num_workers=2)\n",
        "\n",
        "testset = datasets.CIFAR10(root='./data', train=False, download=True, transform=transform)\n",
        "testloader = torch.utils.data.DataLoader(testset, batch_size=batch_size, shuffle=False, num_workers=2)"
      ],
      "metadata": {
        "id": "Za1MuRgVu8LO",
        "outputId": "739ccf3d-6599-4926-cde0-5caac6f5a1e4",
        "colab": {
          "base_uri": "https://localhost:8080/"
        }
      },
      "execution_count": 5,
      "outputs": [
        {
          "output_type": "stream",
          "name": "stdout",
          "text": [
            "Downloading https://www.cs.toronto.edu/~kriz/cifar-10-python.tar.gz to ./data/cifar-10-python.tar.gz\n"
          ]
        },
        {
          "output_type": "stream",
          "name": "stderr",
          "text": [
            "100%|██████████| 170M/170M [00:13<00:00, 12.5MB/s]\n"
          ]
        },
        {
          "output_type": "stream",
          "name": "stdout",
          "text": [
            "Extracting ./data/cifar-10-python.tar.gz to ./data\n",
            "Files already downloaded and verified\n"
          ]
        }
      ]
    },
    {
      "cell_type": "code",
      "source": [
        "results = []"
      ],
      "metadata": {
        "id": "w_fB-dBraXNc"
      },
      "execution_count": 6,
      "outputs": []
    },
    {
      "cell_type": "markdown",
      "source": [
        "## Solution: Basic Neural Network"
      ],
      "metadata": {
        "id": "sJVLq4wgtkxK"
      }
    },
    {
      "cell_type": "code",
      "source": [
        "num_epochs = 20\n",
        "learning_rate = 0.001"
      ],
      "metadata": {
        "id": "lH2C83INkmQG"
      },
      "execution_count": 7,
      "outputs": []
    },
    {
      "cell_type": "code",
      "source": [
        "class NeuralNetwork(nn.Module):\n",
        "    def __init__(self):\n",
        "        super().__init__()\n",
        "        self.flatten = nn.Flatten()\n",
        "        self.linear_relu_stack = nn.Sequential(\n",
        "            nn.Linear(32*32*3, 512),\n",
        "            nn.ReLU(),\n",
        "            nn.Linear(512, 512),\n",
        "            nn.ReLU(),\n",
        "            nn.Linear(512, 10),\n",
        "        )\n",
        "\n",
        "    def forward(self, x):\n",
        "        x = self.flatten(x)\n",
        "        logits = self.linear_relu_stack(x)\n",
        "        return logits"
      ],
      "metadata": {
        "id": "Kt_jeD5ntpPN"
      },
      "execution_count": 8,
      "outputs": []
    },
    {
      "cell_type": "code",
      "source": [
        "model = NeuralNetwork().to(device)\n",
        "\n",
        "# Training Criterion and Optimizer\n",
        "criterion = nn.CrossEntropyLoss()\n",
        "optimizer = optim.Adam(model.parameters(), lr=0.001)"
      ],
      "metadata": {
        "id": "cbzugwYot9Nu"
      },
      "execution_count": 9,
      "outputs": []
    },
    {
      "cell_type": "code",
      "source": [
        "epochs = 10\n",
        "start_time = time.time()\n",
        "\n",
        "# Ensure inputs and labels are moved to the same device as the model\n",
        "for epoch in range(epochs):\n",
        "    running_loss = 0.0\n",
        "    for inputs, labels in trainloader:\n",
        "        inputs, labels = inputs.to(device), labels.to(device)  # Move to device\n",
        "        optimizer.zero_grad()\n",
        "\n",
        "        outputs = model(inputs)\n",
        "        loss = criterion(outputs, labels)\n",
        "        loss.backward()\n",
        "        optimizer.step()\n",
        "\n",
        "        running_loss += loss.item()\n",
        "    print(f\"Epoch {epoch + 1}, Loss: {running_loss / len(trainloader)}\")\n",
        "\n",
        "end_time = time.time()\n",
        "elapsed_time = end_time - start_time\n",
        "\n",
        "print(f\"\\nTraining Finisehd, time: {elapsed_time:.2f} seconds\")"
      ],
      "metadata": {
        "colab": {
          "base_uri": "https://localhost:8080/"
        },
        "id": "U0JvxUi1UG8J",
        "outputId": "764516d0-cba3-4242-e807-910fdf0bfb4c"
      },
      "execution_count": 10,
      "outputs": [
        {
          "output_type": "stream",
          "name": "stdout",
          "text": [
            "Epoch 1, Loss: 1.8130785510363177\n",
            "Epoch 2, Loss: 1.6583778495373933\n",
            "Epoch 3, Loss: 1.5928010789634626\n",
            "Epoch 4, Loss: 1.5598207219787266\n",
            "Epoch 5, Loss: 1.5309036180491338\n",
            "Epoch 6, Loss: 1.5091679257809962\n",
            "Epoch 7, Loss: 1.4912994040552612\n",
            "Epoch 8, Loss: 1.4710236883834196\n",
            "Epoch 9, Loss: 1.4599549082843848\n",
            "Epoch 10, Loss: 1.4492893671745535\n",
            "\n",
            "Training Finisehd, time: 110.41 seconds\n"
          ]
        }
      ]
    },
    {
      "cell_type": "code",
      "source": [
        "correct = 0\n",
        "total = 0\n",
        "with torch.no_grad():\n",
        "    for inputs, labels in testloader:\n",
        "        inputs, labels = inputs.to(device), labels.to(device)\n",
        "        outputs = model(inputs)\n",
        "        _, predicted = torch.max(outputs, 1)\n",
        "        total += labels.size(0)\n",
        "        correct += (predicted == labels).sum().item()\n",
        "\n",
        "print(f\"Accuracy on test set: {100 * correct / total:.2f}%\")\n",
        "results.append(dict(name=\"NN\", accuracy=(100 * correct / total), epochs=num_epochs, learning_rate=learning_rate))\n"
      ],
      "metadata": {
        "colab": {
          "base_uri": "https://localhost:8080/"
        },
        "id": "-n2-W9BLT14b",
        "outputId": "bbf0ada0-b3c9-43eb-d2b7-ef15505d17de"
      },
      "execution_count": 11,
      "outputs": [
        {
          "output_type": "stream",
          "name": "stdout",
          "text": [
            "Accuracy on test set: 48.25%\n"
          ]
        }
      ]
    },
    {
      "cell_type": "code",
      "source": [
        "del model"
      ],
      "metadata": {
        "id": "WOfS28N1Z9I8"
      },
      "execution_count": 12,
      "outputs": []
    },
    {
      "cell_type": "code",
      "source": [
        "torch.cuda.empty_cache() # after each model finishes training to free up GPU memory"
      ],
      "metadata": {
        "id": "hIIxktkbZ3S8"
      },
      "execution_count": 13,
      "outputs": []
    },
    {
      "cell_type": "markdown",
      "source": [
        "## Case: Convolutional Neural Network (CNN)"
      ],
      "metadata": {
        "id": "ucU8CGYkTbkV"
      }
    },
    {
      "cell_type": "code",
      "source": [
        "# settings\n",
        "num_epochs = 20\n",
        "learning_rate = 0.001"
      ],
      "metadata": {
        "id": "RRJWEz7LkG7P"
      },
      "execution_count": 14,
      "outputs": []
    },
    {
      "cell_type": "code",
      "source": [
        "class SimpleCNN(nn.Module):\n",
        "    def __init__(self):\n",
        "        super(SimpleCNN, self).__init__()\n",
        "        self.conv1 = nn.Conv2d(3, 32, kernel_size=3, padding=1)\n",
        "        self.conv2 = nn.Conv2d(32, 64, kernel_size=3, padding=1)\n",
        "        self.conv3 = nn.Conv2d(64, 128, kernel_size=3, padding=1)\n",
        "        self.pool = nn.MaxPool2d(2, 2)\n",
        "        self.fc1 = nn.Linear(128 * 4 * 4, 256)\n",
        "        self.fc2 = nn.Linear(256, 10)\n",
        "\n",
        "    def forward(self, x):\n",
        "        x = self.pool(torch.relu(self.conv1(x)))\n",
        "        x = self.pool(torch.relu(self.conv2(x)))\n",
        "        x = self.pool(torch.relu(self.conv3(x)))\n",
        "        x = x.view(-1, 128 * 4 * 4)\n",
        "        x = torch.relu(self.fc1(x))\n",
        "        x = self.fc2(x)\n",
        "        return x"
      ],
      "metadata": {
        "id": "CNNQOfeYvYBg"
      },
      "execution_count": 15,
      "outputs": []
    },
    {
      "cell_type": "code",
      "source": [
        "model = SimpleCNN().to(device)"
      ],
      "metadata": {
        "id": "nYpTtOR0vax_"
      },
      "execution_count": 16,
      "outputs": []
    },
    {
      "cell_type": "code",
      "source": [
        "criterion = nn.CrossEntropyLoss()\n",
        "optimizer = optim.Adam(model.parameters(), lr=learning_rate)"
      ],
      "metadata": {
        "id": "NN0NVpvMuFCt"
      },
      "execution_count": 17,
      "outputs": []
    },
    {
      "cell_type": "code",
      "source": [
        "start_time = time.time()\n",
        "\n",
        "# Training loop\n",
        "for epoch in range(num_epochs):\n",
        "    running_loss = 0.0\n",
        "    for inputs, labels in trainloader:\n",
        "        inputs, labels = inputs.to(device), labels.to(device)  # Move data to GPU\n",
        "        optimizer.zero_grad()\n",
        "\n",
        "        outputs = model(inputs)\n",
        "        loss = criterion(outputs, labels)\n",
        "        loss.backward()\n",
        "        optimizer.step()\n",
        "\n",
        "        running_loss += loss.item()\n",
        "    print(f\"Epoch {epoch + 1}, Loss: {running_loss / len(trainloader)}\")\n",
        "\n",
        "\n",
        "end_time = time.time()\n",
        "elapsed_time = end_time - start_time\n",
        "\n",
        "print(f\"\\nTraining Finisehd, time: {elapsed_time:.2f} seconds\")\n"
      ],
      "metadata": {
        "id": "2KolOe8jvgnE",
        "outputId": "85510048-de74-4440-d550-2f1cf5d90d25",
        "colab": {
          "base_uri": "https://localhost:8080/"
        }
      },
      "execution_count": 18,
      "outputs": [
        {
          "output_type": "stream",
          "name": "stdout",
          "text": [
            "Epoch 1, Loss: 1.5016195748163306\n",
            "Epoch 2, Loss: 1.105369296677582\n",
            "Epoch 3, Loss: 0.9338339286692002\n",
            "Epoch 4, Loss: 0.8450944603937666\n",
            "Epoch 5, Loss: 0.7831570894059623\n",
            "Epoch 6, Loss: 0.7392083773832492\n",
            "Epoch 7, Loss: 0.6927213706171421\n",
            "Epoch 8, Loss: 0.6686057633603625\n",
            "Epoch 9, Loss: 0.6386147763799218\n",
            "Epoch 10, Loss: 0.6139587149824328\n",
            "Epoch 11, Loss: 0.5997350952585639\n",
            "Epoch 12, Loss: 0.5768753607064256\n",
            "Epoch 13, Loss: 0.5731191567867003\n",
            "Epoch 14, Loss: 0.5532141454384455\n",
            "Epoch 15, Loss: 0.5454065948153091\n",
            "Epoch 16, Loss: 0.538360771430118\n",
            "Epoch 17, Loss: 0.517819959984716\n",
            "Epoch 18, Loss: 0.5109659889546196\n",
            "Epoch 19, Loss: 0.49780228943623545\n",
            "Epoch 20, Loss: 0.4898841830966113\n",
            "\n",
            "Training Finisehd, time: 223.17 seconds\n"
          ]
        }
      ]
    },
    {
      "cell_type": "code",
      "source": [
        "# Testing loop\n",
        "correct = 0\n",
        "total = 0\n",
        "with torch.no_grad():\n",
        "    for inputs, labels in testloader:\n",
        "        inputs, labels = inputs.to(device), labels.to(device)  # Move data to GPU\n",
        "        outputs = model(inputs)\n",
        "        _, predicted = torch.max(outputs, 1)\n",
        "        total += labels.size(0)\n",
        "        correct += (predicted == labels).sum().item()\n",
        "\n",
        "print(f\"Accuracy on test set: {100 * correct / total:.2f}%\")\n",
        "results.append(dict(name=\"CNN\", accuracy=(100 * correct / total), epochs=num_epochs, learning_rate=learning_rate))"
      ],
      "metadata": {
        "id": "tYNnSInHwqdO",
        "outputId": "6f323c5f-5757-4dd1-beca-1dc88ca9990b",
        "colab": {
          "base_uri": "https://localhost:8080/"
        }
      },
      "execution_count": 19,
      "outputs": [
        {
          "output_type": "stream",
          "name": "stdout",
          "text": [
            "Accuracy on test set: 79.36%\n"
          ]
        }
      ]
    },
    {
      "cell_type": "code",
      "source": [
        "del model"
      ],
      "metadata": {
        "id": "odFJArqkbN4b"
      },
      "execution_count": 20,
      "outputs": []
    },
    {
      "cell_type": "code",
      "source": [
        "torch.cuda.empty_cache() # after each model finishes training to free up GPU memory"
      ],
      "metadata": {
        "id": "jIma-NIMbNCV"
      },
      "execution_count": 21,
      "outputs": []
    },
    {
      "cell_type": "markdown",
      "source": [
        "## Case: Convolutional Neural Network with dropout regularization (CNN)"
      ],
      "metadata": {
        "id": "eU4Ey7R1c413"
      }
    },
    {
      "cell_type": "code",
      "source": [
        "# results\n",
        "num_epochs = 20\n",
        "learning_rate = 0.001\n",
        "\n",
        "# dropout settings\n",
        "dropout_conv_rate = 0.1\n",
        "dropout_fc_rate = 0.3"
      ],
      "metadata": {
        "id": "Pe5UDJY_gCQe"
      },
      "execution_count": 22,
      "outputs": []
    },
    {
      "cell_type": "code",
      "source": [
        "class DropoutCNN(nn.Module):\n",
        "    def __init__(self):\n",
        "        super(DropoutCNN, self).__init__()\n",
        "        self.conv1 = nn.Conv2d(3, 32, kernel_size=3, padding=1)\n",
        "        self.conv2 = nn.Conv2d(32, 64, kernel_size=3, padding=1)\n",
        "        self.conv3 = nn.Conv2d(64, 128, kernel_size=3, padding=1)\n",
        "        self.pool = nn.MaxPool2d(2, 2)\n",
        "\n",
        "        self.dropout_conv = nn.Dropout(dropout_fc_rate)  # Dropout for conv layers\n",
        "        self.dropout_fc = nn.Dropout(dropout_fc_rate)     # Dropout for fully connected layers\n",
        "\n",
        "        self.fc1 = nn.Linear(128 * 4 * 4, 256)\n",
        "        self.fc2 = nn.Linear(256, 10)\n",
        "\n",
        "    def forward(self, x):\n",
        "        x = self.pool(torch.relu(self.conv1(x)))\n",
        "        x = self.dropout_conv(x)  # Apply dropout after conv1 + pool\n",
        "\n",
        "        x = self.pool(torch.relu(self.conv2(x)))\n",
        "        x = self.dropout_conv(x)  # Apply dropout after conv2 + pool\n",
        "\n",
        "        x = self.pool(torch.relu(self.conv3(x)))\n",
        "        x = self.dropout_conv(x)  # Apply dropout after conv3 + pool\n",
        "\n",
        "        x = x.view(-1, 128 * 4 * 4)\n",
        "\n",
        "        x = torch.relu(self.fc1(x))\n",
        "        x = self.dropout_fc(x)  # Apply dropout after first fully connected layer\n",
        "        x = self.fc2(x)\n",
        "\n",
        "        return x"
      ],
      "metadata": {
        "id": "yKLPrtPpc4A4"
      },
      "execution_count": 23,
      "outputs": []
    },
    {
      "cell_type": "code",
      "source": [
        "model = DropoutCNN().to(device)"
      ],
      "metadata": {
        "id": "bAvXb8nUdKCZ"
      },
      "execution_count": 24,
      "outputs": []
    },
    {
      "cell_type": "code",
      "source": [
        "criterion = nn.CrossEntropyLoss()\n",
        "optimizer = optim.Adam(model.parameters(), lr=learning_rate)"
      ],
      "metadata": {
        "id": "A0-0W7bTec0b"
      },
      "execution_count": 25,
      "outputs": []
    },
    {
      "cell_type": "code",
      "source": [
        "start_time = time.time()\n",
        "\n",
        "# Training loop\n",
        "for epoch in range(num_epochs):\n",
        "    running_loss = 0.0\n",
        "    for inputs, labels in trainloader:\n",
        "        inputs, labels = inputs.to(device), labels.to(device)  # Move data to GPU\n",
        "        optimizer.zero_grad()\n",
        "\n",
        "        outputs = model(inputs)\n",
        "        loss = criterion(outputs, labels)\n",
        "        loss.backward()\n",
        "        optimizer.step()\n",
        "\n",
        "        running_loss += loss.item()\n",
        "    print(f\"Epoch {epoch + 1}, Loss: {running_loss / len(trainloader)}\")\n",
        "\n",
        "\n",
        "end_time = time.time()\n",
        "elapsed_time = end_time - start_time\n",
        "\n",
        "print(f\"\\nTraining Finisehd, time: {elapsed_time:.2f} seconds\")"
      ],
      "metadata": {
        "colab": {
          "base_uri": "https://localhost:8080/",
          "height": 400
        },
        "id": "OilzAymzegEp",
        "outputId": "f19ceb73-0a89-4310-8a6b-003a1c80d20e"
      },
      "execution_count": 41,
      "outputs": [
        {
          "output_type": "stream",
          "name": "stdout",
          "text": [
            "Epoch 1, Loss: 1.439938067246581\n",
            "Epoch 2, Loss: 1.09445756193622\n"
          ]
        },
        {
          "output_type": "error",
          "ename": "KeyboardInterrupt",
          "evalue": "",
          "traceback": [
            "\u001b[0;31m---------------------------------------------------------------------------\u001b[0m",
            "\u001b[0;31mKeyboardInterrupt\u001b[0m                         Traceback (most recent call last)",
            "\u001b[0;32m<ipython-input-41-fb345c9be597>\u001b[0m in \u001b[0;36m<cell line: 4>\u001b[0;34m()\u001b[0m\n\u001b[1;32m     10\u001b[0m         \u001b[0moutputs\u001b[0m \u001b[0;34m=\u001b[0m \u001b[0mmodel\u001b[0m\u001b[0;34m(\u001b[0m\u001b[0minputs\u001b[0m\u001b[0;34m)\u001b[0m\u001b[0;34m\u001b[0m\u001b[0;34m\u001b[0m\u001b[0m\n\u001b[1;32m     11\u001b[0m         \u001b[0mloss\u001b[0m \u001b[0;34m=\u001b[0m \u001b[0mcriterion\u001b[0m\u001b[0;34m(\u001b[0m\u001b[0moutputs\u001b[0m\u001b[0;34m,\u001b[0m \u001b[0mlabels\u001b[0m\u001b[0;34m)\u001b[0m\u001b[0;34m\u001b[0m\u001b[0;34m\u001b[0m\u001b[0m\n\u001b[0;32m---> 12\u001b[0;31m         \u001b[0mloss\u001b[0m\u001b[0;34m.\u001b[0m\u001b[0mbackward\u001b[0m\u001b[0;34m(\u001b[0m\u001b[0;34m)\u001b[0m\u001b[0;34m\u001b[0m\u001b[0;34m\u001b[0m\u001b[0m\n\u001b[0m\u001b[1;32m     13\u001b[0m         \u001b[0moptimizer\u001b[0m\u001b[0;34m.\u001b[0m\u001b[0mstep\u001b[0m\u001b[0;34m(\u001b[0m\u001b[0;34m)\u001b[0m\u001b[0;34m\u001b[0m\u001b[0;34m\u001b[0m\u001b[0m\n\u001b[1;32m     14\u001b[0m \u001b[0;34m\u001b[0m\u001b[0m\n",
            "\u001b[0;32m/usr/local/lib/python3.10/dist-packages/torch/_tensor.py\u001b[0m in \u001b[0;36mbackward\u001b[0;34m(self, gradient, retain_graph, create_graph, inputs)\u001b[0m\n\u001b[1;32m    579\u001b[0m                 \u001b[0minputs\u001b[0m\u001b[0;34m=\u001b[0m\u001b[0minputs\u001b[0m\u001b[0;34m,\u001b[0m\u001b[0;34m\u001b[0m\u001b[0;34m\u001b[0m\u001b[0m\n\u001b[1;32m    580\u001b[0m             )\n\u001b[0;32m--> 581\u001b[0;31m         torch.autograd.backward(\n\u001b[0m\u001b[1;32m    582\u001b[0m             \u001b[0mself\u001b[0m\u001b[0;34m,\u001b[0m \u001b[0mgradient\u001b[0m\u001b[0;34m,\u001b[0m \u001b[0mretain_graph\u001b[0m\u001b[0;34m,\u001b[0m \u001b[0mcreate_graph\u001b[0m\u001b[0;34m,\u001b[0m \u001b[0minputs\u001b[0m\u001b[0;34m=\u001b[0m\u001b[0minputs\u001b[0m\u001b[0;34m\u001b[0m\u001b[0;34m\u001b[0m\u001b[0m\n\u001b[1;32m    583\u001b[0m         )\n",
            "\u001b[0;32m/usr/local/lib/python3.10/dist-packages/torch/autograd/__init__.py\u001b[0m in \u001b[0;36mbackward\u001b[0;34m(tensors, grad_tensors, retain_graph, create_graph, grad_variables, inputs)\u001b[0m\n\u001b[1;32m    345\u001b[0m     \u001b[0;31m# some Python versions print out the first line of a multi-line function\u001b[0m\u001b[0;34m\u001b[0m\u001b[0;34m\u001b[0m\u001b[0m\n\u001b[1;32m    346\u001b[0m     \u001b[0;31m# calls in the traceback and some print out the last line\u001b[0m\u001b[0;34m\u001b[0m\u001b[0;34m\u001b[0m\u001b[0m\n\u001b[0;32m--> 347\u001b[0;31m     _engine_run_backward(\n\u001b[0m\u001b[1;32m    348\u001b[0m         \u001b[0mtensors\u001b[0m\u001b[0;34m,\u001b[0m\u001b[0;34m\u001b[0m\u001b[0;34m\u001b[0m\u001b[0m\n\u001b[1;32m    349\u001b[0m         \u001b[0mgrad_tensors_\u001b[0m\u001b[0;34m,\u001b[0m\u001b[0;34m\u001b[0m\u001b[0;34m\u001b[0m\u001b[0m\n",
            "\u001b[0;32m/usr/local/lib/python3.10/dist-packages/torch/autograd/graph.py\u001b[0m in \u001b[0;36m_engine_run_backward\u001b[0;34m(t_outputs, *args, **kwargs)\u001b[0m\n\u001b[1;32m    823\u001b[0m         \u001b[0munregister_hooks\u001b[0m \u001b[0;34m=\u001b[0m \u001b[0m_register_logging_hooks_on_whole_graph\u001b[0m\u001b[0;34m(\u001b[0m\u001b[0mt_outputs\u001b[0m\u001b[0;34m)\u001b[0m\u001b[0;34m\u001b[0m\u001b[0;34m\u001b[0m\u001b[0m\n\u001b[1;32m    824\u001b[0m     \u001b[0;32mtry\u001b[0m\u001b[0;34m:\u001b[0m\u001b[0;34m\u001b[0m\u001b[0;34m\u001b[0m\u001b[0m\n\u001b[0;32m--> 825\u001b[0;31m         return Variable._execution_engine.run_backward(  # Calls into the C++ engine to run the backward pass\n\u001b[0m\u001b[1;32m    826\u001b[0m             \u001b[0mt_outputs\u001b[0m\u001b[0;34m,\u001b[0m \u001b[0;34m*\u001b[0m\u001b[0margs\u001b[0m\u001b[0;34m,\u001b[0m \u001b[0;34m**\u001b[0m\u001b[0mkwargs\u001b[0m\u001b[0;34m\u001b[0m\u001b[0;34m\u001b[0m\u001b[0m\n\u001b[1;32m    827\u001b[0m         )  # Calls into the C++ engine to run the backward pass\n",
            "\u001b[0;31mKeyboardInterrupt\u001b[0m: "
          ]
        }
      ]
    },
    {
      "cell_type": "code",
      "source": [
        "# Testing loop\n",
        "correct = 0\n",
        "total = 0\n",
        "with torch.no_grad():\n",
        "    for inputs, labels in testloader:\n",
        "        inputs, labels = inputs.to(device), labels.to(device)  # Move data to GPU\n",
        "        outputs = model(inputs)\n",
        "        _, predicted = torch.max(outputs, 1)\n",
        "        total += labels.size(0)\n",
        "        correct += (predicted == labels).sum().item()\n",
        "\n",
        "print(f\"Accuracy on test set: {100 * correct / total:.2f}%\")\n",
        "results.append(dict(name=\"dropout_CNN\", accuracy=(100 * correct / total), epochs=num_epochs, learning_rate=learning_rate))"
      ],
      "metadata": {
        "colab": {
          "base_uri": "https://localhost:8080/"
        },
        "id": "u7fW6n9Oejpu",
        "outputId": "28b07eb1-8edf-46d6-caf7-20f2fa5cdcb5"
      },
      "execution_count": 27,
      "outputs": [
        {
          "output_type": "stream",
          "name": "stdout",
          "text": [
            "Accuracy on test set: 68.53%\n"
          ]
        }
      ]
    },
    {
      "cell_type": "code",
      "source": [
        "del model"
      ],
      "metadata": {
        "id": "Nu1v4zpjeoRI"
      },
      "execution_count": 28,
      "outputs": []
    },
    {
      "cell_type": "code",
      "source": [
        "torch.cuda.empty_cache() # after each model finishes training to free up GPU memory"
      ],
      "metadata": {
        "id": "wLfpWknienD4"
      },
      "execution_count": 29,
      "outputs": []
    },
    {
      "cell_type": "markdown",
      "source": [
        "## Model Description: Batch-Normalized CNN with Dropout\n",
        "\n",
        "This model is a Convolutional Neural Network (CNN) architecture designed for the CIFAR-10 dataset. It incorporates both **batch normalization** and **dropout** to improve performance and generalization. The architecture consists of three main convolutional blocks, followed by a fully connected (dense) layer:\n",
        "\n",
        "1. **Convolutional Layers**:\n",
        "   - The network includes three convolutional layers with increasing filter sizes: 32, 64, and 128. Each convolutional layer is followed by batch normalization and a ReLU activation function.\n",
        "   - **Batch Normalization**: Applied after each convolutional layer, batch normalization stabilizes training by normalizing activations, allowing the model to converge faster and potentially achieve better accuracy. This reduces reliance on dropout in convolutional layers.\n",
        "\n",
        "2. **Max Pooling**:\n",
        "   - Each convolutional block includes a 2x2 max pooling layer, which reduces the spatial dimensions, allowing the model to focus on essential features while reducing computation.\n",
        "\n",
        "3. **Dropout Regularization**:\n",
        "   - Dropout is applied after the first fully connected layer with a probability of 0.2. This prevents overfitting by reducing reliance on any particular set of neurons during training, allowing the model to generalize better.\n",
        "\n",
        "4. **Fully Connected Layers**:\n",
        "   - After flattening, the feature maps are passed through a 256-unit fully connected layer with ReLU activation, followed by a 10-unit output layer for classification.\n",
        "\n",
        "This architecture balances effective feature extraction with regularization, making it suitable for CIFAR-10’s challenging, small-scale image classification task."
      ],
      "metadata": {
        "id": "A2R3nAuEolxs"
      }
    },
    {
      "cell_type": "code",
      "source": [
        "class DropoutAndBatchNormCNN(nn.Module):\n",
        "    def __init__(self):\n",
        "        super(DropoutAndBatchNormCNN, self).__init__()\n",
        "        self.conv1 = nn.Conv2d(3, 32, kernel_size=3, padding=1)\n",
        "        self.bn1 = nn.BatchNorm2d(32)  # Batch norm after conv1\n",
        "\n",
        "        self.conv2 = nn.Conv2d(32, 64, kernel_size=3, padding=1)\n",
        "        self.bn2 = nn.BatchNorm2d(64)  # Batch norm after conv2\n",
        "\n",
        "        self.conv3 = nn.Conv2d(64, 128, kernel_size=3, padding=1)\n",
        "        self.bn3 = nn.BatchNorm2d(128)  # Batch norm after conv3\n",
        "\n",
        "        self.pool = nn.MaxPool2d(2, 2)\n",
        "\n",
        "        # Lower dropout rates\n",
        "        self.dropout_fc = nn.Dropout(0.2)     # Reduced dropout in FC layer only\n",
        "\n",
        "        self.fc1 = nn.Linear(128 * 4 * 4, 256)\n",
        "        self.fc2 = nn.Linear(256, 10)\n",
        "\n",
        "    def forward(self, x):\n",
        "        x = self.pool(torch.relu(self.bn1(self.conv1(x))))\n",
        "        x = self.pool(torch.relu(self.bn2(self.conv2(x))))\n",
        "        x = self.pool(torch.relu(self.bn3(self.conv3(x))))\n",
        "\n",
        "        x = x.view(-1, 128 * 4 * 4)\n",
        "\n",
        "        x = torch.relu(self.fc1(x))\n",
        "        x = self.dropout_fc(x)  # Apply dropout only after fully connected layer\n",
        "\n",
        "        x = self.fc2(x)\n",
        "        return x\n",
        "\n",
        "# Initialize and train the model\n",
        "net = SimpleCNN().to(device)\n"
      ],
      "metadata": {
        "id": "UEq3mOB7oT7C"
      },
      "execution_count": 37,
      "outputs": []
    },
    {
      "cell_type": "code",
      "source": [
        "# settings\n",
        "num_epochs = 50\n",
        "learning_rate = 0.001"
      ],
      "metadata": {
        "id": "LCHybymgow5X"
      },
      "execution_count": 38,
      "outputs": []
    },
    {
      "cell_type": "code",
      "source": [
        "model = DropoutAndBatchNormCNN().to(device)"
      ],
      "metadata": {
        "id": "WP_oNjAcpTfJ"
      },
      "execution_count": 39,
      "outputs": []
    },
    {
      "cell_type": "code",
      "source": [
        "criterion = nn.CrossEntropyLoss()\n",
        "optimizer = optim.Adam(model.parameters(), lr=learning_rate)"
      ],
      "metadata": {
        "id": "wMsGgC1upS_k"
      },
      "execution_count": 40,
      "outputs": []
    },
    {
      "cell_type": "code",
      "source": [
        "start_time = time.time()\n",
        "\n",
        "# Training loop\n",
        "for epoch in range(num_epochs):\n",
        "    running_loss = 0.0\n",
        "    for inputs, labels in trainloader:\n",
        "        inputs, labels = inputs.to(device), labels.to(device)  # Move data to GPU\n",
        "        optimizer.zero_grad()\n",
        "\n",
        "        outputs = model(inputs)\n",
        "        loss = criterion(outputs, labels)\n",
        "        loss.backward()\n",
        "        optimizer.step()\n",
        "\n",
        "        running_loss += loss.item()\n",
        "    print(f\"Epoch {epoch + 1}, Loss: {running_loss / len(trainloader)}\")\n",
        "\n",
        "\n",
        "end_time = time.time()\n",
        "elapsed_time = end_time - start_time\n",
        "\n",
        "print(f\"\\nTraining Finisehd, time: {elapsed_time:.2f} seconds\")"
      ],
      "metadata": {
        "colab": {
          "base_uri": "https://localhost:8080/"
        },
        "id": "yQLTrSkKptoZ",
        "outputId": "d79745d6-69bc-4b83-b359-5c90e7e990fe"
      },
      "execution_count": 42,
      "outputs": [
        {
          "output_type": "stream",
          "name": "stdout",
          "text": [
            "Epoch 1, Loss: 0.9322082401084169\n",
            "Epoch 2, Loss: 0.8638917832347133\n",
            "Epoch 3, Loss: 0.8169671631301455\n",
            "Epoch 4, Loss: 0.7729811627617882\n",
            "Epoch 5, Loss: 0.7403335546898415\n",
            "Epoch 6, Loss: 0.7099425939800185\n",
            "Epoch 7, Loss: 0.684588090347512\n",
            "Epoch 8, Loss: 0.659844867523064\n",
            "Epoch 9, Loss: 0.6391975264186445\n",
            "Epoch 10, Loss: 0.6207791048547496\n",
            "Epoch 11, Loss: 0.6041541210449565\n",
            "Epoch 12, Loss: 0.5930184113323841\n",
            "Epoch 13, Loss: 0.5749129763687663\n",
            "Epoch 14, Loss: 0.5647827736328325\n",
            "Epoch 15, Loss: 0.5531982640399957\n",
            "Epoch 16, Loss: 0.5415023448102919\n",
            "Epoch 17, Loss: 0.5333342708628196\n",
            "Epoch 18, Loss: 0.5185738314905435\n",
            "Epoch 19, Loss: 0.5105578731126188\n",
            "Epoch 20, Loss: 0.5014734693119288\n",
            "Epoch 21, Loss: 0.49848257620697434\n",
            "Epoch 22, Loss: 0.4935810813475448\n",
            "Epoch 23, Loss: 0.47869894099052607\n",
            "Epoch 24, Loss: 0.4691271622810522\n",
            "Epoch 25, Loss: 0.4751292479122081\n",
            "Epoch 26, Loss: 0.460060047657441\n",
            "Epoch 27, Loss: 0.461444758336105\n",
            "Epoch 28, Loss: 0.45317191571530785\n",
            "Epoch 29, Loss: 0.44757771347184927\n",
            "Epoch 30, Loss: 0.4425187007621731\n",
            "Epoch 31, Loss: 0.43369793068722384\n",
            "Epoch 32, Loss: 0.43787515923723846\n",
            "Epoch 33, Loss: 0.4311360571428638\n",
            "Epoch 34, Loss: 0.42008196402464987\n",
            "Epoch 35, Loss: 0.4188869864777531\n",
            "Epoch 36, Loss: 0.41379870441944705\n",
            "Epoch 37, Loss: 0.4130689374283147\n",
            "Epoch 38, Loss: 0.40555952527486455\n",
            "Epoch 39, Loss: 0.40103804019024913\n",
            "Epoch 40, Loss: 0.40626210363014886\n",
            "Epoch 41, Loss: 0.3995567951970698\n",
            "Epoch 42, Loss: 0.3976124311842577\n",
            "Epoch 43, Loss: 0.3914815762158855\n",
            "Epoch 44, Loss: 0.3865670311214674\n",
            "Epoch 45, Loss: 0.3813910418192444\n",
            "Epoch 46, Loss: 0.3789833576211234\n",
            "Epoch 47, Loss: 0.37362422016651736\n",
            "Epoch 48, Loss: 0.37609143113083854\n",
            "Epoch 49, Loss: 0.3755150418871504\n",
            "Epoch 50, Loss: 0.36751024823283296\n",
            "\n",
            "Training Finisehd, time: 546.07 seconds\n"
          ]
        }
      ]
    },
    {
      "cell_type": "code",
      "source": [
        "# Testing loop\n",
        "correct = 0\n",
        "total = 0\n",
        "with torch.no_grad():\n",
        "    for inputs, labels in testloader:\n",
        "        inputs, labels = inputs.to(device), labels.to(device)  # Move data to GPU\n",
        "        outputs = model(inputs)\n",
        "        _, predicted = torch.max(outputs, 1)\n",
        "        total += labels.size(0)\n",
        "        correct += (predicted == labels).sum().item()\n",
        "\n",
        "print(f\"Accuracy on test set: {100 * correct / total:.2f}%\")\n",
        "results.append(dict(name=\"dropout_batch_norm_CNN\", accuracy=(100 * correct / total), epochs=num_epochs, learning_rate=learning_rate))"
      ],
      "metadata": {
        "colab": {
          "base_uri": "https://localhost:8080/"
        },
        "id": "aRt1aV6Jp4C4",
        "outputId": "24d420a2-797c-41bd-a7f3-b108f4a64148"
      },
      "execution_count": 47,
      "outputs": [
        {
          "output_type": "stream",
          "name": "stdout",
          "text": [
            "Accuracy on test set: 82.35%\n"
          ]
        }
      ]
    },
    {
      "cell_type": "code",
      "source": [
        "del model"
      ],
      "metadata": {
        "id": "-JLbJ1Ojp9o_"
      },
      "execution_count": null,
      "outputs": []
    },
    {
      "cell_type": "code",
      "source": [
        "torch.cuda.empty_cache() # after each model finishes training to free up GPU memory"
      ],
      "metadata": {
        "id": "wVZ8oCI-p-3b"
      },
      "execution_count": null,
      "outputs": []
    },
    {
      "cell_type": "markdown",
      "source": [
        "## CIFAR-10 Benchmark Results vs Solutions\n",
        "\n",
        "- NN: Accuracy: 47.72%\n",
        "- CNN: Accuracy: 75.67%\n",
        "\n",
        "https://paperswithcode.com/sota/image-classification-on-cifar-10\n",
        "\n",
        "\n",
        "![CIFAR-10-RESULTS.png](data:image/png;base64,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)"
      ],
      "metadata": {
        "id": "4cj7KHFUw-7u"
      }
    },
    {
      "cell_type": "code",
      "source": [
        "for result in results:\n",
        "    print(result)"
      ],
      "metadata": {
        "colab": {
          "base_uri": "https://localhost:8080/"
        },
        "id": "n3r5OiQvcnvG",
        "outputId": "d7dfead4-dd2f-45bd-8707-c22e5e57f23d"
      },
      "execution_count": 48,
      "outputs": [
        {
          "output_type": "stream",
          "name": "stdout",
          "text": [
            "{'name': 'NN', 'accuracy': 48.25, 'epochs': 20, 'learning_rate': 0.001}\n",
            "{'name': 'CNN', 'accuracy': 79.36, 'epochs': 20, 'learning_rate': 0.001}\n",
            "{'name': 'dropout_CNN', 'accuracy': 68.53, 'epochs': 20, 'learning_rate': 0.001}\n",
            "{'name': 'dropout_CNN', 'accuracy': 81.54, 'epochs': 50, 'learning_rate': 0.001}\n",
            "{'name': 'dropout_batch_norm_CNN', 'accuracy': 82.01, 'epochs': 50, 'learning_rate': 0.001}\n",
            "{'name': 'dropout_batch_norm_CNN', 'accuracy': 81.83, 'epochs': 50, 'learning_rate': 0.001}\n",
            "{'name': 'dropout_batch_norm_CNN', 'accuracy': 82.35, 'epochs': 50, 'learning_rate': 0.001}\n"
          ]
        }
      ]
    }
  ]
}