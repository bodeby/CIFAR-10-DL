{
  "nbformat": 4,
  "nbformat_minor": 0,
  "metadata": {
    "colab": {
      "provenance": [],
      "gpuType": "T4",
      "authorship_tag": "ABX9TyNlCsKSN2W7+opT+lpcJTJd"
    },
    "kernelspec": {
      "name": "python3",
      "display_name": "Python 3"
    },
    "language_info": {
      "name": "python"
    },
    "accelerator": "GPU"
  },
  "cells": [
    {
      "cell_type": "code",
      "execution_count": 43,
      "metadata": {
        "id": "HISqlyClQFlX"
      },
      "outputs": [],
      "source": [
        "import os\n",
        "import time\n",
        "import torch\n",
        "import numpy as np\n",
        "import pandas as pd\n",
        "from torch import nn, optim\n",
        "from torch.utils.data import DataLoader, random_split\n",
        "from torchvision import datasets, transforms"
      ]
    },
    {
      "cell_type": "code",
      "source": [
        "from safetensors.torch import save_file\n",
        "from safetensors.torch import load_file"
      ],
      "metadata": {
        "id": "g5lElR65s3ks"
      },
      "execution_count": 2,
      "outputs": []
    },
    {
      "cell_type": "code",
      "source": [
        "device = (\"cuda\" if torch.cuda.is_available() else \"mps\" if torch.backends.mps.is_available() else \"cpu\")"
      ],
      "metadata": {
        "id": "GYukVc9nQ-dz"
      },
      "execution_count": 3,
      "outputs": []
    },
    {
      "cell_type": "code",
      "source": [
        "# GLOBAL VARIABLES\n",
        "ensemble_size = 3\n",
        "batch_size = 64\n",
        "num_epochs = 40\n",
        "learning_rate = 0.001\n",
        "\n",
        "LOAD_MODELS = False\n",
        "\n",
        "# ARRAY TO DICTIONARY RESULTS\n",
        "results = []"
      ],
      "metadata": {
        "id": "OjfoS4oTRVQb"
      },
      "execution_count": 4,
      "outputs": []
    },
    {
      "cell_type": "markdown",
      "source": [
        "## Data Preparation"
      ],
      "metadata": {
        "id": "b3-FR6QTRBpi"
      }
    },
    {
      "cell_type": "code",
      "source": [
        "# Define transformations for training and testing data\n",
        "transform = transforms.Compose([\n",
        "    transforms.RandomHorizontalFlip(),\n",
        "    transforms.RandomCrop(32, padding=4),\n",
        "    transforms.ToTensor(),\n",
        "    transforms.Normalize((0.4914, 0.4822, 0.4465), (0.2023, 0.1994, 0.2010)),\n",
        "])"
      ],
      "metadata": {
        "id": "5j-tvEOuREtp"
      },
      "execution_count": 5,
      "outputs": []
    },
    {
      "cell_type": "code",
      "source": [
        "# Define data transformations\n",
        "transform = transforms.Compose([\n",
        "    transforms.ToTensor(),\n",
        "    transforms.Normalize((0.5, 0.5, 0.5), (0.5, 0.5, 0.5)),\n",
        "])"
      ],
      "metadata": {
        "id": "NKDiteZrSa-q"
      },
      "execution_count": 6,
      "outputs": []
    },
    {
      "cell_type": "code",
      "source": [
        "# Load the CIFAR-10 dataset: Training & Test Data\n",
        "train = datasets.CIFAR10(root='./data', train=True, download=True, transform=transform)\n",
        "test = datasets.CIFAR10(root='./data', train=False, download=True, transform=transform)"
      ],
      "metadata": {
        "colab": {
          "base_uri": "https://localhost:8080/"
        },
        "id": "OGOEtCRiRF1k",
        "outputId": "9efd5a28-0abb-4e93-edb1-21fd36020217"
      },
      "execution_count": 7,
      "outputs": [
        {
          "output_type": "stream",
          "name": "stdout",
          "text": [
            "Files already downloaded and verified\n",
            "Files already downloaded and verified\n"
          ]
        }
      ]
    },
    {
      "cell_type": "code",
      "source": [
        "# Calculate the base length for each subset\n",
        "subset_length = len(train) // 3\n",
        "\n",
        "# Calculate the remainder\n",
        "remainder = len(train) % 3\n",
        "\n",
        "# Distribute the remainder among the subsets\n",
        "lengths = [subset_length + (1 if i < remainder else 0) for i in range(3)]"
      ],
      "metadata": {
        "id": "oEM4Nw9KSy_w"
      },
      "execution_count": 8,
      "outputs": []
    },
    {
      "cell_type": "code",
      "source": [
        "subset_length, remainder, lengths"
      ],
      "metadata": {
        "colab": {
          "base_uri": "https://localhost:8080/"
        },
        "id": "cYlHBVlMS1Wk",
        "outputId": "c3544cc6-4d99-4c82-a660-149f4f072505"
      },
      "execution_count": 9,
      "outputs": [
        {
          "output_type": "execute_result",
          "data": {
            "text/plain": [
              "(16666, 2, [16667, 16667, 16666])"
            ]
          },
          "metadata": {},
          "execution_count": 9
        }
      ]
    },
    {
      "cell_type": "code",
      "source": [
        "# Split the training dataset into three subsets for the ensemble\n",
        "train_subset_1, train_subset_2, train_subset_3 = random_split(train, lengths)\n",
        "\n",
        "# Individual trainloaders for specific subsets\n",
        "trainloader_1 = DataLoader(train_subset_1, batch_size=batch_size, shuffle=True, num_workers=2)\n",
        "trainloader_2 = DataLoader(train_subset_2, batch_size=batch_size, shuffle=True, num_workers=2)\n",
        "trainloader_3 = DataLoader(train_subset_3, batch_size=batch_size, shuffle=True, num_workers=2)\n",
        "\n",
        "# test definition\n",
        "testloader = DataLoader(test, batch_size=batch_size, shuffle=False, num_workers=2)"
      ],
      "metadata": {
        "id": "cbO78dKFRR_n"
      },
      "execution_count": 10,
      "outputs": []
    },
    {
      "cell_type": "markdown",
      "source": [
        "## Neural Network Architecture (Simple CNN)"
      ],
      "metadata": {
        "id": "LKST0PkETK96"
      }
    },
    {
      "cell_type": "code",
      "source": [
        "class SimpleCNN(nn.Module):\n",
        "    def __init__(self):\n",
        "        super(SimpleCNN, self).__init__()\n",
        "        self.conv1 = nn.Conv2d(3, 32, kernel_size=3, padding=1)\n",
        "        self.conv2 = nn.Conv2d(32, 64, kernel_size=3, padding=1)\n",
        "        self.conv3 = nn.Conv2d(64, 128, kernel_size=3, padding=1)\n",
        "\n",
        "        # Adding batch normalization layers after each convolutional layer\n",
        "        self.bn1 = nn.BatchNorm2d(32)\n",
        "        self.bn2 = nn.BatchNorm2d(64)\n",
        "        self.bn3 = nn.BatchNorm2d(128)\n",
        "\n",
        "        # Adding dropout with a probability of 0.5\n",
        "        self.dropout = nn.Dropout(0.5)\n",
        "\n",
        "        self.pool = nn.MaxPool2d(2, 2)\n",
        "        self.fc1 = nn.Linear(128 * 4 * 4, 256)\n",
        "        self.fc2 = nn.Linear(256, 10)\n",
        "\n",
        "    def forward(self, x):\n",
        "        # Apply batch norm and dropout after ReLU activations\n",
        "        x = self.pool(torch.relu(self.bn1(self.conv1(x))))\n",
        "        x = self.pool(torch.relu(self.bn2(self.conv2(x))))\n",
        "        x = self.pool(torch.relu(self.bn3(self.conv3(x))))\n",
        "\n",
        "        x = x.view(-1, 128 * 4 * 4)\n",
        "\n",
        "        x = torch.relu(self.fc1(x))\n",
        "        x = self.dropout(x)  # Apply dropout only on fully connected layer\n",
        "        x = self.fc2(x)\n",
        "\n",
        "        return x"
      ],
      "metadata": {
        "id": "1WWoD_6sRr_1"
      },
      "execution_count": 11,
      "outputs": []
    },
    {
      "cell_type": "code",
      "source": [
        "def train_model(model, trainloader, criterion, optimizer):\n",
        "    start_time = time.time()\n",
        "    model.train()\n",
        "    for epoch in range(num_epochs):\n",
        "        running_loss = 0.0\n",
        "\n",
        "        for inputs, labels in trainloader:\n",
        "            inputs, labels = inputs.to(device), labels.to(device)\n",
        "            optimizer.zero_grad()\n",
        "            outputs = model(inputs)\n",
        "            loss = criterion(outputs, labels)\n",
        "            loss.backward()\n",
        "            optimizer.step()\n",
        "            running_loss += loss.item()\n",
        "\n",
        "        avg_loss = running_loss / len(trainloader)\n",
        "        print(f\"Epoch {epoch+1}/{num_epochs}, Loss: {avg_loss:.4f}\")\n",
        "\n",
        "    end_time = time.time()\n",
        "    elapsed_time = end_time - start_time\n",
        "    print(f\"\\nTraining Finisehd, time: {elapsed_time:.2f} seconds\")\n",
        "\n",
        "    # Clear the CUDA memory cache after training each model\n",
        "    torch.cuda.empty_cache()"
      ],
      "metadata": {
        "id": "JgxZZ8ora3nV"
      },
      "execution_count": 12,
      "outputs": []
    },
    {
      "cell_type": "code",
      "source": [
        "def evaluate_model(model, testloader, model_name=\"\"):\n",
        "    model.eval()\n",
        "    correct = 0\n",
        "    total = 0\n",
        "\n",
        "    with torch.no_grad():\n",
        "      for inputs, labels in testloader:\n",
        "          inputs, labels = inputs.to(device), labels.to(device)  # Move data to GPU\n",
        "          outputs = model(inputs)\n",
        "          _, predicted = torch.max(outputs, 1)\n",
        "          total += labels.size(0)\n",
        "          correct += (predicted == labels).sum().item()\n",
        "\n",
        "    print(f\"Accuracy on test set: {100 * correct / total:.2f}%\")\n",
        "    return dict(name=model_name, accuracy=(100 * correct / total), epochs=num_epochs, learning_rate=learning_rate)"
      ],
      "metadata": {
        "id": "FtTtGU3te3gC"
      },
      "execution_count": 13,
      "outputs": []
    },
    {
      "cell_type": "markdown",
      "source": [
        "## Model 1: CNN with first subset of training *data*\n",
        "\n",
        "`criterion = nn.CrossEntropyLoss()` initializes cross-entropy loss as the criterion, a commonly used loss function for multi-class classification tasks. Cross-entropy loss measures the difference between the model’s predicted class probabilities and the actual class labels, with a higher penalty for incorrect predictions. This guides the model toward learning accurate class probabilities by minimizing this loss during training.\n",
        "\n",
        "`optimizer = optim.Adam(model.parameters(), lr=learning_rate)` sets up the Adam optimizer, which will adjust the model’s parameters at each training step. Here, `model.parameters()` specifies the parameters to be updated, and `lr=learning_rate` defines the learning rate, controlling the size of the updates applied to the model’s parameters. The optimizer and loss function work together to enable effective backpropagation and parameter adjustment, essential for improving the model's performance as training progresses."
      ],
      "metadata": {
        "id": "sT6rXMX9UJWN"
      }
    },
    {
      "cell_type": "code",
      "source": [
        "model_name = \"base_learner_1\"\n",
        "base_learner_1 = SimpleCNN().to(device) # Enable model to run on CUDA\n",
        "criterion = nn.CrossEntropyLoss()\n",
        "optimizer = optim.Adam(base_learner_1.parameters(), lr=learning_rate)"
      ],
      "metadata": {
        "id": "4XnbLKoaUStS"
      },
      "execution_count": 14,
      "outputs": []
    },
    {
      "cell_type": "code",
      "source": [
        "loaded_state_dict = load_file('base_learner_1.safetensors')"
      ],
      "metadata": {
        "id": "sgbHqqzXn1j2"
      },
      "execution_count": 15,
      "outputs": []
    },
    {
      "cell_type": "code",
      "source": [
        "if loaded_state_dict.keys() == base_learner_1.state_dict().keys() and LOAD_MODELS:\n",
        "    print(\"Matching model architecture found. Loading weights...\")\n",
        "    base_learner_1.load_state_dict(loaded_state_dict)\n",
        "else:\n",
        "    print(\"Model architecture does not match. Retraining the model...\")\n",
        "    # Retrain your model (assuming you have a function `train_model`)\n",
        "    train_model(base_learner_1, trainloader_1, criterion, optimizer)"
      ],
      "metadata": {
        "collapsed": true,
        "colab": {
          "base_uri": "https://localhost:8080/"
        },
        "id": "5dKzDBA2cvHN",
        "outputId": "120ff794-763a-42d7-8924-6afbced0d573"
      },
      "execution_count": 16,
      "outputs": [
        {
          "output_type": "stream",
          "name": "stdout",
          "text": [
            "Model architecture does not match. Retraining the model...\n",
            "Epoch 1/40, Loss: 1.6402\n",
            "Epoch 2/40, Loss: 1.2885\n",
            "Epoch 3/40, Loss: 1.1304\n",
            "Epoch 4/40, Loss: 1.0335\n",
            "Epoch 5/40, Loss: 0.9468\n",
            "Epoch 6/40, Loss: 0.8760\n",
            "Epoch 7/40, Loss: 0.8253\n",
            "Epoch 8/40, Loss: 0.7690\n",
            "Epoch 9/40, Loss: 0.7239\n",
            "Epoch 10/40, Loss: 0.6667\n",
            "Epoch 11/40, Loss: 0.6199\n",
            "Epoch 12/40, Loss: 0.5674\n",
            "Epoch 13/40, Loss: 0.5355\n",
            "Epoch 14/40, Loss: 0.4977\n",
            "Epoch 15/40, Loss: 0.4557\n",
            "Epoch 16/40, Loss: 0.4233\n",
            "Epoch 17/40, Loss: 0.3954\n",
            "Epoch 18/40, Loss: 0.3659\n",
            "Epoch 19/40, Loss: 0.3261\n",
            "Epoch 20/40, Loss: 0.3247\n",
            "Epoch 21/40, Loss: 0.2877\n",
            "Epoch 22/40, Loss: 0.2731\n",
            "Epoch 23/40, Loss: 0.2549\n",
            "Epoch 24/40, Loss: 0.2293\n",
            "Epoch 25/40, Loss: 0.2179\n",
            "Epoch 26/40, Loss: 0.2061\n",
            "Epoch 27/40, Loss: 0.2030\n",
            "Epoch 28/40, Loss: 0.1809\n",
            "Epoch 29/40, Loss: 0.1929\n",
            "Epoch 30/40, Loss: 0.1724\n",
            "Epoch 31/40, Loss: 0.1696\n",
            "Epoch 32/40, Loss: 0.1559\n",
            "Epoch 33/40, Loss: 0.1475\n",
            "Epoch 34/40, Loss: 0.1468\n",
            "Epoch 35/40, Loss: 0.1337\n",
            "Epoch 36/40, Loss: 0.1274\n",
            "Epoch 37/40, Loss: 0.1328\n",
            "Epoch 38/40, Loss: 0.1257\n",
            "Epoch 39/40, Loss: 0.1297\n",
            "Epoch 40/40, Loss: 0.1247\n",
            "\n",
            "Training Finisehd, time: 201.43 seconds\n"
          ]
        }
      ]
    },
    {
      "cell_type": "code",
      "source": [
        "save_file(base_learner_1.state_dict(), 'base_learner_1.safetensors')"
      ],
      "metadata": {
        "id": "TwWzkAalm0Kf"
      },
      "execution_count": 17,
      "outputs": []
    },
    {
      "cell_type": "markdown",
      "source": [
        "### Model Evaluation for base learner (1)"
      ],
      "metadata": {
        "id": "ZNt_94KZU4TE"
      }
    },
    {
      "cell_type": "code",
      "source": [
        "result = evaluate_model(base_learner_1, testloader, model_name=\"base_learner_1\")"
      ],
      "metadata": {
        "colab": {
          "base_uri": "https://localhost:8080/"
        },
        "id": "g8gzNKB5fRkW",
        "outputId": "100b52c4-abae-4049-97f7-f95795851256"
      },
      "execution_count": 18,
      "outputs": [
        {
          "output_type": "stream",
          "name": "stdout",
          "text": [
            "Accuracy on test set: 73.73%\n"
          ]
        }
      ]
    },
    {
      "cell_type": "code",
      "source": [
        "result"
      ],
      "metadata": {
        "colab": {
          "base_uri": "https://localhost:8080/"
        },
        "id": "rM35nuYNfgS5",
        "outputId": "bf3a227c-8f7c-4432-afbe-ce2081744e67"
      },
      "execution_count": 19,
      "outputs": [
        {
          "output_type": "execute_result",
          "data": {
            "text/plain": [
              "{'name': 'base_learner_1',\n",
              " 'accuracy': 73.73,\n",
              " 'epochs': 40,\n",
              " 'learning_rate': 0.001}"
            ]
          },
          "metadata": {},
          "execution_count": 19
        }
      ]
    },
    {
      "cell_type": "code",
      "source": [
        "results.append(result)"
      ],
      "metadata": {
        "id": "CkhAl-rlfe3A"
      },
      "execution_count": 20,
      "outputs": []
    },
    {
      "cell_type": "markdown",
      "source": [
        "## Model 2: CNN with second subset of training *data*\n",
        "\n",
        "`criterion = nn.CrossEntropyLoss()` initializes cross-entropy loss as the criterion, a commonly used loss function for multi-class classification tasks. Cross-entropy loss measures the difference between the model’s predicted class probabilities and the actual class labels, with a higher penalty for incorrect predictions. This guides the model toward learning accurate class probabilities by minimizing this loss during training.\n",
        "\n",
        "`optimizer = optim.Adam(model.parameters(), lr=learning_rate)` sets up the Adam optimizer, which will adjust the model’s parameters at each training step. Here, `model.parameters()` specifies the parameters to be updated, and `lr=learning_rate` defines the learning rate, controlling the size of the updates applied to the model’s parameters. The optimizer and loss function work together to enable effective backpropagation and parameter adjustment, essential for improving the model's performance as training progresses."
      ],
      "metadata": {
        "id": "rgvliFpXVp7s"
      }
    },
    {
      "cell_type": "code",
      "source": [
        "base_learner_2 = SimpleCNN().to(device) # Enable model to run on CUDA\n",
        "criterion = nn.CrossEntropyLoss()\n",
        "optimizer = optim.Adam(base_learner_2.parameters(), lr=learning_rate)"
      ],
      "metadata": {
        "id": "wVtZSsWFVo0y"
      },
      "execution_count": 21,
      "outputs": []
    },
    {
      "cell_type": "code",
      "source": [
        "loaded_state_dict = load_file('base_learner_2.safetensors')"
      ],
      "metadata": {
        "id": "snUvmFiToL9E"
      },
      "execution_count": 22,
      "outputs": []
    },
    {
      "cell_type": "code",
      "source": [
        "if  loaded_state_dict.keys() == base_learner_2.state_dict().keys() and LOAD_MODELS:\n",
        "    print(\"Matching model architecture found. Loading weights...\")\n",
        "    base_learner_2.load_state_dict(loaded_state_dict)\n",
        "else:\n",
        "    print(\"Model architecture does not match. Retraining the model...\")\n",
        "    train_model(base_learner_2, trainloader_2, criterion, optimizer)"
      ],
      "metadata": {
        "collapsed": true,
        "colab": {
          "base_uri": "https://localhost:8080/"
        },
        "id": "B3dsGuqUdIYC",
        "outputId": "8a699776-54f1-4711-9c1a-06ce0a726467"
      },
      "execution_count": 23,
      "outputs": [
        {
          "output_type": "stream",
          "name": "stdout",
          "text": [
            "Model architecture does not match. Retraining the model...\n",
            "Epoch 1/40, Loss: 1.6530\n",
            "Epoch 2/40, Loss: 1.3240\n",
            "Epoch 3/40, Loss: 1.1737\n",
            "Epoch 4/40, Loss: 1.0651\n",
            "Epoch 5/40, Loss: 0.9797\n",
            "Epoch 6/40, Loss: 0.9087\n",
            "Epoch 7/40, Loss: 0.8484\n",
            "Epoch 8/40, Loss: 0.7847\n",
            "Epoch 9/40, Loss: 0.7286\n",
            "Epoch 10/40, Loss: 0.6879\n",
            "Epoch 11/40, Loss: 0.6409\n",
            "Epoch 12/40, Loss: 0.5964\n",
            "Epoch 13/40, Loss: 0.5355\n",
            "Epoch 14/40, Loss: 0.4970\n",
            "Epoch 15/40, Loss: 0.4591\n",
            "Epoch 16/40, Loss: 0.4282\n",
            "Epoch 17/40, Loss: 0.3881\n",
            "Epoch 18/40, Loss: 0.3476\n",
            "Epoch 19/40, Loss: 0.3320\n",
            "Epoch 20/40, Loss: 0.3114\n",
            "Epoch 21/40, Loss: 0.2882\n",
            "Epoch 22/40, Loss: 0.2682\n",
            "Epoch 23/40, Loss: 0.2465\n",
            "Epoch 24/40, Loss: 0.2315\n",
            "Epoch 25/40, Loss: 0.2198\n",
            "Epoch 26/40, Loss: 0.2088\n",
            "Epoch 27/40, Loss: 0.1872\n",
            "Epoch 28/40, Loss: 0.1664\n",
            "Epoch 29/40, Loss: 0.1642\n",
            "Epoch 30/40, Loss: 0.1646\n",
            "Epoch 31/40, Loss: 0.1673\n",
            "Epoch 32/40, Loss: 0.1661\n",
            "Epoch 33/40, Loss: 0.1535\n",
            "Epoch 34/40, Loss: 0.1427\n",
            "Epoch 35/40, Loss: 0.1366\n",
            "Epoch 36/40, Loss: 0.1247\n",
            "Epoch 37/40, Loss: 0.1186\n",
            "Epoch 38/40, Loss: 0.1305\n",
            "Epoch 39/40, Loss: 0.1197\n",
            "Epoch 40/40, Loss: 0.1132\n",
            "\n",
            "Training Finisehd, time: 193.21 seconds\n"
          ]
        }
      ]
    },
    {
      "cell_type": "code",
      "source": [
        "save_file(base_learner_2.state_dict(), 'base_learner_2.safetensors')"
      ],
      "metadata": {
        "id": "dQmRGUztoVSm"
      },
      "execution_count": 24,
      "outputs": []
    },
    {
      "cell_type": "markdown",
      "source": [
        "### Model Evaluation for base learner (2)\n"
      ],
      "metadata": {
        "id": "VCh5lRbAfopn"
      }
    },
    {
      "cell_type": "code",
      "source": [
        "result = evaluate_model(base_learner_2, testloader, model_name=\"learner_2\")"
      ],
      "metadata": {
        "colab": {
          "base_uri": "https://localhost:8080/"
        },
        "id": "mVTnPrvWft4F",
        "outputId": "841e3fff-74d9-462b-ee77-948a7005db38"
      },
      "execution_count": 25,
      "outputs": [
        {
          "output_type": "stream",
          "name": "stdout",
          "text": [
            "Accuracy on test set: 73.66%\n"
          ]
        }
      ]
    },
    {
      "cell_type": "code",
      "source": [
        "result"
      ],
      "metadata": {
        "colab": {
          "base_uri": "https://localhost:8080/"
        },
        "id": "ROY54_20fv4b",
        "outputId": "21f65b58-27a9-4e08-9e78-9f02d1008f2e"
      },
      "execution_count": 26,
      "outputs": [
        {
          "output_type": "execute_result",
          "data": {
            "text/plain": [
              "{'name': 'learner_2', 'accuracy': 73.66, 'epochs': 40, 'learning_rate': 0.001}"
            ]
          },
          "metadata": {},
          "execution_count": 26
        }
      ]
    },
    {
      "cell_type": "code",
      "source": [
        "results.append(result)"
      ],
      "metadata": {
        "id": "5Q_jmNtzfw9U"
      },
      "execution_count": 27,
      "outputs": []
    },
    {
      "cell_type": "markdown",
      "source": [
        "## Model 3: CNN with third subset of training *data*\n",
        "\n",
        "`criterion = nn.CrossEntropyLoss()` initializes cross-entropy loss as the criterion, a commonly used loss function for multi-class classification tasks. Cross-entropy loss measures the difference between the model’s predicted class probabilities and the actual class labels, with a higher penalty for incorrect predictions. This guides the model toward learning accurate class probabilities by minimizing this loss during training.\n",
        "\n",
        "`optimizer = optim.Adam(model.parameters(), lr=learning_rate)` sets up the Adam optimizer, which will adjust the model’s parameters at each training step. Here, `model.parameters()` specifies the parameters to be updated, and `lr=learning_rate` defines the learning rate, controlling the size of the updates applied to the model’s parameters. The optimizer and loss function work together to enable effective backpropagation and parameter adjustment, essential for improving the model's performance as training progresses."
      ],
      "metadata": {
        "id": "A55H1ropY8ic"
      }
    },
    {
      "cell_type": "code",
      "source": [
        "base_learner_3 = SimpleCNN().to(device) # Enable model to run on CUDA\n",
        "criterion = nn.CrossEntropyLoss()\n",
        "optimizer = optim.Adam(base_learner_3.parameters(), lr=learning_rate)"
      ],
      "metadata": {
        "id": "fSiDCPa6ZTsj"
      },
      "execution_count": 28,
      "outputs": []
    },
    {
      "cell_type": "code",
      "source": [
        "loaded_state_dict = load_file('base_learner_3.safetensors')"
      ],
      "metadata": {
        "id": "7omSG5lCoxWD"
      },
      "execution_count": 29,
      "outputs": []
    },
    {
      "cell_type": "code",
      "source": [
        "if loaded_state_dict.keys() == base_learner_3.state_dict().keys() and LOAD_MODELS:\n",
        "    print(\"Matching model architecture found. Loading weights...\")\n",
        "    base_learner_3.load_state_dict(loaded_state_dict)\n",
        "else:\n",
        "    print(\"Model architecture does not match. Retraining the model...\")\n",
        "    # Retrain your model (assuming you have a function `train_model`)\n",
        "    train_model(base_learner_3, trainloader_3, criterion, optimizer)"
      ],
      "metadata": {
        "collapsed": true,
        "colab": {
          "base_uri": "https://localhost:8080/"
        },
        "id": "ZbKodtHaf0gC",
        "outputId": "4b41967c-2df3-410d-8650-f3360c7cb6ee"
      },
      "execution_count": 30,
      "outputs": [
        {
          "output_type": "stream",
          "name": "stdout",
          "text": [
            "Model architecture does not match. Retraining the model...\n",
            "Epoch 1/40, Loss: 1.6559\n",
            "Epoch 2/40, Loss: 1.3236\n",
            "Epoch 3/40, Loss: 1.1627\n",
            "Epoch 4/40, Loss: 1.0519\n",
            "Epoch 5/40, Loss: 0.9715\n",
            "Epoch 6/40, Loss: 0.8871\n",
            "Epoch 7/40, Loss: 0.8324\n",
            "Epoch 8/40, Loss: 0.7647\n",
            "Epoch 9/40, Loss: 0.7019\n",
            "Epoch 10/40, Loss: 0.6585\n",
            "Epoch 11/40, Loss: 0.5980\n",
            "Epoch 12/40, Loss: 0.5583\n",
            "Epoch 13/40, Loss: 0.5168\n",
            "Epoch 14/40, Loss: 0.4738\n",
            "Epoch 15/40, Loss: 0.4458\n",
            "Epoch 16/40, Loss: 0.4034\n",
            "Epoch 17/40, Loss: 0.3654\n",
            "Epoch 18/40, Loss: 0.3356\n",
            "Epoch 19/40, Loss: 0.3167\n",
            "Epoch 20/40, Loss: 0.2939\n",
            "Epoch 21/40, Loss: 0.2694\n",
            "Epoch 22/40, Loss: 0.2384\n",
            "Epoch 23/40, Loss: 0.2367\n",
            "Epoch 24/40, Loss: 0.2122\n",
            "Epoch 25/40, Loss: 0.2011\n",
            "Epoch 26/40, Loss: 0.1905\n",
            "Epoch 27/40, Loss: 0.1906\n",
            "Epoch 28/40, Loss: 0.1602\n",
            "Epoch 29/40, Loss: 0.1633\n",
            "Epoch 30/40, Loss: 0.1574\n",
            "Epoch 31/40, Loss: 0.1513\n",
            "Epoch 32/40, Loss: 0.1348\n",
            "Epoch 33/40, Loss: 0.1259\n",
            "Epoch 34/40, Loss: 0.1416\n",
            "Epoch 35/40, Loss: 0.1302\n",
            "Epoch 36/40, Loss: 0.1207\n",
            "Epoch 37/40, Loss: 0.1265\n",
            "Epoch 38/40, Loss: 0.1217\n",
            "Epoch 39/40, Loss: 0.1098\n",
            "Epoch 40/40, Loss: 0.1105\n",
            "\n",
            "Training Finisehd, time: 194.54 seconds\n"
          ]
        }
      ]
    },
    {
      "cell_type": "code",
      "source": [
        "save_file(base_learner_3.state_dict(), 'base_learner_3.safetensors')"
      ],
      "metadata": {
        "id": "PxkrRc3_oYpI"
      },
      "execution_count": 31,
      "outputs": []
    },
    {
      "cell_type": "markdown",
      "source": [
        "### Model Evaluation for base learner (3)"
      ],
      "metadata": {
        "id": "8i41oGkXgI_F"
      }
    },
    {
      "cell_type": "code",
      "source": [
        "result = evaluate_model(base_learner_3, testloader, model_name=\"learner_3\")"
      ],
      "metadata": {
        "colab": {
          "base_uri": "https://localhost:8080/"
        },
        "id": "4WWPF6ePf3D8",
        "outputId": "02b9819d-d05e-4e5f-f7aa-3c74cd3ff63a"
      },
      "execution_count": 32,
      "outputs": [
        {
          "output_type": "stream",
          "name": "stdout",
          "text": [
            "Accuracy on test set: 70.56%\n"
          ]
        }
      ]
    },
    {
      "cell_type": "code",
      "source": [
        "result"
      ],
      "metadata": {
        "colab": {
          "base_uri": "https://localhost:8080/"
        },
        "id": "F8BHGwlBf23D",
        "outputId": "1e99df15-49f8-4738-d762-b60765a720ff"
      },
      "execution_count": 33,
      "outputs": [
        {
          "output_type": "execute_result",
          "data": {
            "text/plain": [
              "{'name': 'learner_3', 'accuracy': 70.56, 'epochs': 40, 'learning_rate': 0.001}"
            ]
          },
          "metadata": {},
          "execution_count": 33
        }
      ]
    },
    {
      "cell_type": "code",
      "source": [
        "results.append(result)"
      ],
      "metadata": {
        "id": "ECkeAzz5f5ec"
      },
      "execution_count": 34,
      "outputs": []
    },
    {
      "cell_type": "markdown",
      "source": [
        "## Results before ensembling"
      ],
      "metadata": {
        "id": "4HRbP9b9iiTh"
      }
    },
    {
      "cell_type": "code",
      "source": [
        "results"
      ],
      "metadata": {
        "colab": {
          "base_uri": "https://localhost:8080/"
        },
        "id": "uEhNfVZMinNX",
        "outputId": "465f30db-23bc-4cc4-9424-29959433a412"
      },
      "execution_count": 35,
      "outputs": [
        {
          "output_type": "execute_result",
          "data": {
            "text/plain": [
              "[{'name': 'base_learner_1',\n",
              "  'accuracy': 73.73,\n",
              "  'epochs': 40,\n",
              "  'learning_rate': 0.001},\n",
              " {'name': 'learner_2',\n",
              "  'accuracy': 73.66,\n",
              "  'epochs': 40,\n",
              "  'learning_rate': 0.001},\n",
              " {'name': 'learner_3',\n",
              "  'accuracy': 70.56,\n",
              "  'epochs': 40,\n",
              "  'learning_rate': 0.001}]"
            ]
          },
          "metadata": {},
          "execution_count": 35
        }
      ]
    },
    {
      "cell_type": "markdown",
      "source": [
        "## Ensemble Predictions\n"
      ],
      "metadata": {
        "id": "fsimInp_lTwQ"
      }
    },
    {
      "cell_type": "code",
      "source": [
        "def evaluate_ensemble(models, testloader, model_names=None):\n",
        "    print(\"Evaluating ensemble...\")\n",
        "\n",
        "    # Set models to evaluation mode\n",
        "    for model in models:\n",
        "        model.eval()\n",
        "\n",
        "    correct = 0\n",
        "    total = 0\n",
        "    all_preds = []\n",
        "\n",
        "    with torch.no_grad():\n",
        "        for inputs, labels in testloader:\n",
        "            inputs, labels = inputs.to(device), labels.to(device)  # Move data to GPU\n",
        "\n",
        "            # Get predictions from all models\n",
        "            model_preds = []\n",
        "            for model in models:\n",
        "                outputs = model(inputs)\n",
        "                _, predicted = torch.max(outputs, 1)\n",
        "                model_preds.append(predicted.cpu().numpy())\n",
        "\n",
        "            # Convert model_preds to a numpy array (models x samples)\n",
        "            model_preds = np.array(model_preds)\n",
        "\n",
        "            # Majority voting (take the class with the most votes for each sample)\n",
        "            final_preds = np.apply_along_axis(lambda x: np.bincount(x).argmax(), axis=0, arr=model_preds)\n",
        "\n",
        "            all_preds.extend(final_preds)\n",
        "            total += labels.size(0)\n",
        "            correct += (final_preds == labels.cpu().numpy()).sum()\n",
        "\n",
        "    accuracy = 100 * correct / total\n",
        "    print(f\"Accuracy on test set: {accuracy:.2f}%\")\n",
        "    return dict(name=f\"ensemble:[{', '.join(model_names)}]\", accuracy=accuracy, epochs=num_epochs, learning_rate=learning_rate)\n"
      ],
      "metadata": {
        "id": "jvSTsbEllx51"
      },
      "execution_count": 36,
      "outputs": []
    },
    {
      "cell_type": "code",
      "source": [
        "models = [base_learner_1, base_learner_2, base_learner_3]\n",
        "model_names = [\"BL1\", \"BL2\", \"BL3\"]"
      ],
      "metadata": {
        "id": "pfPMW0S3l3S4"
      },
      "execution_count": 37,
      "outputs": []
    },
    {
      "cell_type": "code",
      "source": [
        "result = evaluate_ensemble(models, testloader, model_names)"
      ],
      "metadata": {
        "colab": {
          "base_uri": "https://localhost:8080/"
        },
        "id": "eWCp5SBfmbzH",
        "outputId": "72d13410-76da-4dd3-f2d5-394fc1582aec"
      },
      "execution_count": 38,
      "outputs": [
        {
          "output_type": "stream",
          "name": "stdout",
          "text": [
            "Evaluating ensemble...\n",
            "Accuracy on test set: 76.30%\n"
          ]
        }
      ]
    },
    {
      "cell_type": "code",
      "source": [
        "results.append(result)"
      ],
      "metadata": {
        "id": "Vq2P0AoYmLae"
      },
      "execution_count": 39,
      "outputs": []
    },
    {
      "cell_type": "code",
      "source": [
        "pd.DataFrame(results).sort_values(by=\"accuracy\", ascending=False)"
      ],
      "metadata": {
        "colab": {
          "base_uri": "https://localhost:8080/",
          "height": 175
        },
        "id": "H05zizeCp4BP",
        "outputId": "d96beeaf-90fc-480b-dab0-6f7ab8db7ee5"
      },
      "execution_count": 49,
      "outputs": [
        {
          "output_type": "execute_result",
          "data": {
            "text/plain": [
              "                       name  accuracy  epochs  learning_rate\n",
              "3  ensemble:[BL1, BL2, BL3]     76.30      40          0.001\n",
              "0            base_learner_1     73.73      40          0.001\n",
              "1                 learner_2     73.66      40          0.001\n",
              "2                 learner_3     70.56      40          0.001"
            ],
            "text/html": [
              "\n",
              "  <div id=\"df-cfc3da6b-9909-49e4-8368-1fe0c11bc78d\" class=\"colab-df-container\">\n",
              "    <div>\n",
              "<style scoped>\n",
              "    .dataframe tbody tr th:only-of-type {\n",
              "        vertical-align: middle;\n",
              "    }\n",
              "\n",
              "    .dataframe tbody tr th {\n",
              "        vertical-align: top;\n",
              "    }\n",
              "\n",
              "    .dataframe thead th {\n",
              "        text-align: right;\n",
              "    }\n",
              "</style>\n",
              "<table border=\"1\" class=\"dataframe\">\n",
              "  <thead>\n",
              "    <tr style=\"text-align: right;\">\n",
              "      <th></th>\n",
              "      <th>name</th>\n",
              "      <th>accuracy</th>\n",
              "      <th>epochs</th>\n",
              "      <th>learning_rate</th>\n",
              "    </tr>\n",
              "  </thead>\n",
              "  <tbody>\n",
              "    <tr>\n",
              "      <th>3</th>\n",
              "      <td>ensemble:[BL1, BL2, BL3]</td>\n",
              "      <td>76.30</td>\n",
              "      <td>40</td>\n",
              "      <td>0.001</td>\n",
              "    </tr>\n",
              "    <tr>\n",
              "      <th>0</th>\n",
              "      <td>base_learner_1</td>\n",
              "      <td>73.73</td>\n",
              "      <td>40</td>\n",
              "      <td>0.001</td>\n",
              "    </tr>\n",
              "    <tr>\n",
              "      <th>1</th>\n",
              "      <td>learner_2</td>\n",
              "      <td>73.66</td>\n",
              "      <td>40</td>\n",
              "      <td>0.001</td>\n",
              "    </tr>\n",
              "    <tr>\n",
              "      <th>2</th>\n",
              "      <td>learner_3</td>\n",
              "      <td>70.56</td>\n",
              "      <td>40</td>\n",
              "      <td>0.001</td>\n",
              "    </tr>\n",
              "  </tbody>\n",
              "</table>\n",
              "</div>\n",
              "    <div class=\"colab-df-buttons\">\n",
              "\n",
              "  <div class=\"colab-df-container\">\n",
              "    <button class=\"colab-df-convert\" onclick=\"convertToInteractive('df-cfc3da6b-9909-49e4-8368-1fe0c11bc78d')\"\n",
              "            title=\"Convert this dataframe to an interactive table.\"\n",
              "            style=\"display:none;\">\n",
              "\n",
              "  <svg xmlns=\"http://www.w3.org/2000/svg\" height=\"24px\" viewBox=\"0 -960 960 960\">\n",
              "    <path d=\"M120-120v-720h720v720H120Zm60-500h600v-160H180v160Zm220 220h160v-160H400v160Zm0 220h160v-160H400v160ZM180-400h160v-160H180v160Zm440 0h160v-160H620v160ZM180-180h160v-160H180v160Zm440 0h160v-160H620v160Z\"/>\n",
              "  </svg>\n",
              "    </button>\n",
              "\n",
              "  <style>\n",
              "    .colab-df-container {\n",
              "      display:flex;\n",
              "      gap: 12px;\n",
              "    }\n",
              "\n",
              "    .colab-df-convert {\n",
              "      background-color: #E8F0FE;\n",
              "      border: none;\n",
              "      border-radius: 50%;\n",
              "      cursor: pointer;\n",
              "      display: none;\n",
              "      fill: #1967D2;\n",
              "      height: 32px;\n",
              "      padding: 0 0 0 0;\n",
              "      width: 32px;\n",
              "    }\n",
              "\n",
              "    .colab-df-convert:hover {\n",
              "      background-color: #E2EBFA;\n",
              "      box-shadow: 0px 1px 2px rgba(60, 64, 67, 0.3), 0px 1px 3px 1px rgba(60, 64, 67, 0.15);\n",
              "      fill: #174EA6;\n",
              "    }\n",
              "\n",
              "    .colab-df-buttons div {\n",
              "      margin-bottom: 4px;\n",
              "    }\n",
              "\n",
              "    [theme=dark] .colab-df-convert {\n",
              "      background-color: #3B4455;\n",
              "      fill: #D2E3FC;\n",
              "    }\n",
              "\n",
              "    [theme=dark] .colab-df-convert:hover {\n",
              "      background-color: #434B5C;\n",
              "      box-shadow: 0px 1px 3px 1px rgba(0, 0, 0, 0.15);\n",
              "      filter: drop-shadow(0px 1px 2px rgba(0, 0, 0, 0.3));\n",
              "      fill: #FFFFFF;\n",
              "    }\n",
              "  </style>\n",
              "\n",
              "    <script>\n",
              "      const buttonEl =\n",
              "        document.querySelector('#df-cfc3da6b-9909-49e4-8368-1fe0c11bc78d button.colab-df-convert');\n",
              "      buttonEl.style.display =\n",
              "        google.colab.kernel.accessAllowed ? 'block' : 'none';\n",
              "\n",
              "      async function convertToInteractive(key) {\n",
              "        const element = document.querySelector('#df-cfc3da6b-9909-49e4-8368-1fe0c11bc78d');\n",
              "        const dataTable =\n",
              "          await google.colab.kernel.invokeFunction('convertToInteractive',\n",
              "                                                    [key], {});\n",
              "        if (!dataTable) return;\n",
              "\n",
              "        const docLinkHtml = 'Like what you see? Visit the ' +\n",
              "          '<a target=\"_blank\" href=https://colab.research.google.com/notebooks/data_table.ipynb>data table notebook</a>'\n",
              "          + ' to learn more about interactive tables.';\n",
              "        element.innerHTML = '';\n",
              "        dataTable['output_type'] = 'display_data';\n",
              "        await google.colab.output.renderOutput(dataTable, element);\n",
              "        const docLink = document.createElement('div');\n",
              "        docLink.innerHTML = docLinkHtml;\n",
              "        element.appendChild(docLink);\n",
              "      }\n",
              "    </script>\n",
              "  </div>\n",
              "\n",
              "\n",
              "<div id=\"df-80228f8d-a7d8-4b55-a0ce-4c1d095e4dff\">\n",
              "  <button class=\"colab-df-quickchart\" onclick=\"quickchart('df-80228f8d-a7d8-4b55-a0ce-4c1d095e4dff')\"\n",
              "            title=\"Suggest charts\"\n",
              "            style=\"display:none;\">\n",
              "\n",
              "<svg xmlns=\"http://www.w3.org/2000/svg\" height=\"24px\"viewBox=\"0 0 24 24\"\n",
              "     width=\"24px\">\n",
              "    <g>\n",
              "        <path d=\"M19 3H5c-1.1 0-2 .9-2 2v14c0 1.1.9 2 2 2h14c1.1 0 2-.9 2-2V5c0-1.1-.9-2-2-2zM9 17H7v-7h2v7zm4 0h-2V7h2v10zm4 0h-2v-4h2v4z\"/>\n",
              "    </g>\n",
              "</svg>\n",
              "  </button>\n",
              "\n",
              "<style>\n",
              "  .colab-df-quickchart {\n",
              "      --bg-color: #E8F0FE;\n",
              "      --fill-color: #1967D2;\n",
              "      --hover-bg-color: #E2EBFA;\n",
              "      --hover-fill-color: #174EA6;\n",
              "      --disabled-fill-color: #AAA;\n",
              "      --disabled-bg-color: #DDD;\n",
              "  }\n",
              "\n",
              "  [theme=dark] .colab-df-quickchart {\n",
              "      --bg-color: #3B4455;\n",
              "      --fill-color: #D2E3FC;\n",
              "      --hover-bg-color: #434B5C;\n",
              "      --hover-fill-color: #FFFFFF;\n",
              "      --disabled-bg-color: #3B4455;\n",
              "      --disabled-fill-color: #666;\n",
              "  }\n",
              "\n",
              "  .colab-df-quickchart {\n",
              "    background-color: var(--bg-color);\n",
              "    border: none;\n",
              "    border-radius: 50%;\n",
              "    cursor: pointer;\n",
              "    display: none;\n",
              "    fill: var(--fill-color);\n",
              "    height: 32px;\n",
              "    padding: 0;\n",
              "    width: 32px;\n",
              "  }\n",
              "\n",
              "  .colab-df-quickchart:hover {\n",
              "    background-color: var(--hover-bg-color);\n",
              "    box-shadow: 0 1px 2px rgba(60, 64, 67, 0.3), 0 1px 3px 1px rgba(60, 64, 67, 0.15);\n",
              "    fill: var(--button-hover-fill-color);\n",
              "  }\n",
              "\n",
              "  .colab-df-quickchart-complete:disabled,\n",
              "  .colab-df-quickchart-complete:disabled:hover {\n",
              "    background-color: var(--disabled-bg-color);\n",
              "    fill: var(--disabled-fill-color);\n",
              "    box-shadow: none;\n",
              "  }\n",
              "\n",
              "  .colab-df-spinner {\n",
              "    border: 2px solid var(--fill-color);\n",
              "    border-color: transparent;\n",
              "    border-bottom-color: var(--fill-color);\n",
              "    animation:\n",
              "      spin 1s steps(1) infinite;\n",
              "  }\n",
              "\n",
              "  @keyframes spin {\n",
              "    0% {\n",
              "      border-color: transparent;\n",
              "      border-bottom-color: var(--fill-color);\n",
              "      border-left-color: var(--fill-color);\n",
              "    }\n",
              "    20% {\n",
              "      border-color: transparent;\n",
              "      border-left-color: var(--fill-color);\n",
              "      border-top-color: var(--fill-color);\n",
              "    }\n",
              "    30% {\n",
              "      border-color: transparent;\n",
              "      border-left-color: var(--fill-color);\n",
              "      border-top-color: var(--fill-color);\n",
              "      border-right-color: var(--fill-color);\n",
              "    }\n",
              "    40% {\n",
              "      border-color: transparent;\n",
              "      border-right-color: var(--fill-color);\n",
              "      border-top-color: var(--fill-color);\n",
              "    }\n",
              "    60% {\n",
              "      border-color: transparent;\n",
              "      border-right-color: var(--fill-color);\n",
              "    }\n",
              "    80% {\n",
              "      border-color: transparent;\n",
              "      border-right-color: var(--fill-color);\n",
              "      border-bottom-color: var(--fill-color);\n",
              "    }\n",
              "    90% {\n",
              "      border-color: transparent;\n",
              "      border-bottom-color: var(--fill-color);\n",
              "    }\n",
              "  }\n",
              "</style>\n",
              "\n",
              "  <script>\n",
              "    async function quickchart(key) {\n",
              "      const quickchartButtonEl =\n",
              "        document.querySelector('#' + key + ' button');\n",
              "      quickchartButtonEl.disabled = true;  // To prevent multiple clicks.\n",
              "      quickchartButtonEl.classList.add('colab-df-spinner');\n",
              "      try {\n",
              "        const charts = await google.colab.kernel.invokeFunction(\n",
              "            'suggestCharts', [key], {});\n",
              "      } catch (error) {\n",
              "        console.error('Error during call to suggestCharts:', error);\n",
              "      }\n",
              "      quickchartButtonEl.classList.remove('colab-df-spinner');\n",
              "      quickchartButtonEl.classList.add('colab-df-quickchart-complete');\n",
              "    }\n",
              "    (() => {\n",
              "      let quickchartButtonEl =\n",
              "        document.querySelector('#df-80228f8d-a7d8-4b55-a0ce-4c1d095e4dff button');\n",
              "      quickchartButtonEl.style.display =\n",
              "        google.colab.kernel.accessAllowed ? 'block' : 'none';\n",
              "    })();\n",
              "  </script>\n",
              "</div>\n",
              "\n",
              "    </div>\n",
              "  </div>\n"
            ],
            "application/vnd.google.colaboratory.intrinsic+json": {
              "type": "dataframe",
              "summary": "{\n  \"name\": \"pd\",\n  \"rows\": 4,\n  \"fields\": [\n    {\n      \"column\": \"name\",\n      \"properties\": {\n        \"dtype\": \"string\",\n        \"num_unique_values\": 4,\n        \"samples\": [\n          \"base_learner_1\",\n          \"learner_3\",\n          \"ensemble:[BL1, BL2, BL3]\"\n        ],\n        \"semantic_type\": \"\",\n        \"description\": \"\"\n      }\n    },\n    {\n      \"column\": \"accuracy\",\n      \"properties\": {\n        \"dtype\": \"number\",\n        \"std\": 2.3485083918663476,\n        \"min\": 70.56,\n        \"max\": 76.3,\n        \"num_unique_values\": 4,\n        \"samples\": [\n          73.73,\n          70.56,\n          76.3\n        ],\n        \"semantic_type\": \"\",\n        \"description\": \"\"\n      }\n    },\n    {\n      \"column\": \"epochs\",\n      \"properties\": {\n        \"dtype\": \"number\",\n        \"std\": 0,\n        \"min\": 40,\n        \"max\": 40,\n        \"num_unique_values\": 1,\n        \"samples\": [\n          40\n        ],\n        \"semantic_type\": \"\",\n        \"description\": \"\"\n      }\n    },\n    {\n      \"column\": \"learning_rate\",\n      \"properties\": {\n        \"dtype\": \"number\",\n        \"std\": 0.0,\n        \"min\": 0.001,\n        \"max\": 0.001,\n        \"num_unique_values\": 1,\n        \"samples\": [\n          0.001\n        ],\n        \"semantic_type\": \"\",\n        \"description\": \"\"\n      }\n    }\n  ]\n}"
            }
          },
          "metadata": {},
          "execution_count": 49
        }
      ]
    }
  ]
}